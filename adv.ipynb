{
 "cells": [
  {
   "cell_type": "markdown",
   "metadata": {},
   "source": [
    "# day 1\n",
    "\n",
    "# first problem."
   ]
  },
  {
   "cell_type": "code",
   "execution_count": null,
   "metadata": {},
   "outputs": [],
   "source": [
    "with open(\"input-01-1.txt\") as f:\n",
    "    both = [line.split() for line in f]\n",
    "    fst = sorted([int(x) for x, _ in both])\n",
    "    snd = sorted([int(y) for _, y in both])\n",
    "\n",
    "sum(abs(x - y) for x, y in zip(fst, snd))"
   ]
  },
  {
   "cell_type": "markdown",
   "metadata": {},
   "source": [
    "## snd problem"
   ]
  },
  {
   "cell_type": "code",
   "execution_count": null,
   "metadata": {},
   "outputs": [],
   "source": [
    "sum(sum(x for x in snd if x == y) for y in fst)"
   ]
  },
  {
   "cell_type": "markdown",
   "metadata": {},
   "source": [
    "# Day  2\n",
    "## problem 1\n"
   ]
  },
  {
   "cell_type": "code",
   "execution_count": null,
   "metadata": {},
   "outputs": [],
   "source": [
    "from io import StringIO, TextIOBase"
   ]
  },
  {
   "cell_type": "code",
   "execution_count": null,
   "metadata": {},
   "outputs": [],
   "source": [
    "exem_data = \"\"\"7 6 4 2 1\n",
    "1 2 7 8 9\n",
    "9 7 6 2 1\n",
    "1 3 2 4 5\n",
    "8 6 4 4 1\n",
    "1 3 6 7 9\"\"\""
   ]
  },
  {
   "cell_type": "code",
   "execution_count": null,
   "metadata": {},
   "outputs": [],
   "source": [
    "def read_pbs(file:TextIOBase):\n",
    "    return [ [int(x) for x in line.split()] for line in file]\n",
    "\n",
    "\n",
    "exem_read = read_pbs(StringIO(exem_data))\n",
    "exem_read"
   ]
  },
  {
   "cell_type": "code",
   "execution_count": null,
   "metadata": {},
   "outputs": [],
   "source": [
    "def first_error(report:list[int]) -> int | None:\n",
    "    \"\"\"return indices where error occur\n",
    "None if no error\"\"\"\n",
    "    if len(report) <= 1:\n",
    "        return None\n",
    "    increasing = report[0] < report[1]\n",
    "    for i in range(1, len(report)):\n",
    "        if (increasing and report[i-1] >= report[i]) or (\n",
    "            (not increasing) and report[i-1] <= report[i]) or (\n",
    "                abs(report[i-1] - report[i]) > 3):\n",
    "            return i\n",
    "    return None\n",
    "\n",
    "assert first_error(exem_read[0]) is None\n",
    "assert first_error(exem_read[1]) == 2\n",
    "assert first_error(exem_read[2]) == 3\n",
    "assert first_error(exem_read[3]) == 2\n",
    "assert first_error(exem_read[4]) == 3\n",
    "assert first_error(exem_read[5]) is None\n"
   ]
  },
  {
   "cell_type": "markdown",
   "metadata": {},
   "source": []
  },
  {
   "cell_type": "code",
   "execution_count": null,
   "metadata": {},
   "outputs": [],
   "source": [
    "def nb_save_report(reports:list[list[int]], find_error):\n",
    "    return sum(1 for report in reports if find_error(report) is None)\n",
    "\n",
    "\n",
    "assert nb_save_report(exem_read, first_error) == 2"
   ]
  },
  {
   "cell_type": "code",
   "execution_count": null,
   "metadata": {},
   "outputs": [],
   "source": [
    "with open(\"input-02-1.txt\") as f:\n",
    "    data = read_pbs(f)\n",
    "\n",
    "nb_save_report(data, first_error)"
   ]
  },
  {
   "cell_type": "markdown",
   "metadata": {},
   "source": [
    "# pb 2"
   ]
  },
  {
   "cell_type": "code",
   "execution_count": null,
   "metadata": {},
   "outputs": [],
   "source": [
    "def first_error_pb2(report):\n",
    "    fst_report = first_error(report)\n",
    "    if fst_report is None:\n",
    "        return None\n",
    "    \n",
    "    for i in [fst_report, fst_report - 1, 0, 1]:\n",
    "        cp_report = report[:]\n",
    "        del cp_report[i]\n",
    "        if first_error(cp_report) is None:\n",
    "            return None\n",
    "\n",
    "    return fst_report\n",
    "    \n",
    "\n",
    "\n",
    "assert first_error_pb2(exem_read[0]) is None\n",
    "assert first_error_pb2(exem_read[1]) is not None\n",
    "assert first_error_pb2(exem_read[2]) is not None\n",
    "assert first_error_pb2(exem_read[3]) is None\n",
    "assert first_error_pb2(exem_read[4]) is None\n",
    "assert first_error_pb2(exem_read[5]) is None\n"
   ]
  },
  {
   "cell_type": "code",
   "execution_count": null,
   "metadata": {},
   "outputs": [],
   "source": [
    "nb_save_report(data, first_error_pb2)"
   ]
  },
  {
   "cell_type": "markdown",
   "metadata": {},
   "source": [
    "# Day 3"
   ]
  },
  {
   "cell_type": "markdown",
   "metadata": {},
   "source": [
    "## pb 1"
   ]
  },
  {
   "cell_type": "code",
   "execution_count": null,
   "metadata": {},
   "outputs": [],
   "source": [
    "exem = \"xmul(2,4)%&mul[3,7]!@^do_not_mul(5,5)+mul(32,64]then(mul(11,8)mul(8,5))\""
   ]
  },
  {
   "cell_type": "code",
   "execution_count": null,
   "metadata": {},
   "outputs": [],
   "source": [
    "import re\n",
    "\n",
    "matcher = re.compile(\"mul\\\\(([0-9]+),([0-9]+)\\\\)\")\n",
    "\n",
    "def multiplication(expr):\n",
    "    return sum(int(x) * int(y) for x, y in matcher.findall(expr))\n",
    "\n",
    "assert multiplication(exem) == 161\n",
    "    "
   ]
  },
  {
   "cell_type": "code",
   "execution_count": null,
   "metadata": {},
   "outputs": [],
   "source": [
    "with open(\"input-03-1.txt\") as f:\n",
    "    print(multiplication(f.read()))"
   ]
  },
  {
   "cell_type": "markdown",
   "metadata": {},
   "source": [
    "## pb 2"
   ]
  },
  {
   "cell_type": "code",
   "execution_count": null,
   "metadata": {},
   "outputs": [],
   "source": [
    "exem2 = \"xmul(2,4)&mul[3,7]!^don't()_mul(5,5)+mul(32,64](mul(11,8)undo()?mul(8,5))\""
   ]
  },
  {
   "cell_type": "code",
   "execution_count": null,
   "metadata": {},
   "outputs": [],
   "source": [
    "matcher = re.compile(\"(mul\\\\(([0-9]+),([0-9]+)\\\\)|do\\\\(\\\\)|don't\\\\(\\\\))\")\n",
    "\n",
    "def multiplication2(expr):\n",
    "    count = 0\n",
    "    enabled = True\n",
    "    for cmd, x, y in matcher.findall(expr):\n",
    "        if cmd == \"do()\":\n",
    "            enabled = True\n",
    "        elif cmd == \"don't()\":\n",
    "            enabled = False\n",
    "        elif enabled:\n",
    "            count = count + int(x) * int(y)\n",
    "    return count\n",
    "\n",
    "assert multiplication2(exem2) == 48"
   ]
  },
  {
   "cell_type": "code",
   "execution_count": null,
   "metadata": {},
   "outputs": [],
   "source": [
    "with open(\"input-03-1.txt\") as f:\n",
    "    print(multiplication2(f.read()))"
   ]
  },
  {
   "cell_type": "code",
   "execution_count": null,
   "metadata": {},
   "outputs": [],
   "source": []
  }
 ],
 "metadata": {
  "kernelspec": {
   "display_name": "Python 3",
   "language": "python",
   "name": "python3"
  },
  "language_info": {
   "codemirror_mode": {
    "name": "ipython",
    "version": 3
   },
   "file_extension": ".py",
   "mimetype": "text/x-python",
   "name": "python",
   "nbconvert_exporter": "python",
   "pygments_lexer": "ipython3",
   "version": "3.12.1"
  }
 },
 "nbformat": 4,
 "nbformat_minor": 2
}
