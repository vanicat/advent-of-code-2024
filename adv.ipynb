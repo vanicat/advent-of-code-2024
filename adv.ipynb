{
 "cells": [
  {
   "cell_type": "markdown",
   "metadata": {},
   "source": [
    "# day 1\n",
    "\n",
    "# first problem."
   ]
  },
  {
   "cell_type": "code",
   "execution_count": 1,
   "metadata": {},
   "outputs": [
    {
     "data": {
      "text/plain": [
       "1506483"
      ]
     },
     "execution_count": 1,
     "metadata": {},
     "output_type": "execute_result"
    }
   ],
   "source": [
    "with open(\"input-01-1.txt\") as f:\n",
    "    both = [line.split() for line in f]\n",
    "    fst = sorted([int(x) for x, _ in both])\n",
    "    snd = sorted([int(y) for _, y in both])\n",
    "\n",
    "sum(abs(x - y) for x, y in zip(fst, snd))"
   ]
  },
  {
   "cell_type": "markdown",
   "metadata": {},
   "source": [
    "## snd problem"
   ]
  },
  {
   "cell_type": "code",
   "execution_count": 2,
   "metadata": {},
   "outputs": [
    {
     "data": {
      "text/plain": [
       "23126924"
      ]
     },
     "execution_count": 2,
     "metadata": {},
     "output_type": "execute_result"
    }
   ],
   "source": [
    "sum(sum(x for x in snd if x == y) for y in fst)"
   ]
  },
  {
   "cell_type": "markdown",
   "metadata": {},
   "source": [
    "# Day  2\n",
    "## problem 1\n"
   ]
  },
  {
   "cell_type": "code",
   "execution_count": 8,
   "metadata": {},
   "outputs": [],
   "source": [
    "from io import StringIO, TextIOBase"
   ]
  },
  {
   "cell_type": "code",
   "execution_count": 9,
   "metadata": {},
   "outputs": [],
   "source": [
    "exem_data = \"\"\"7 6 4 2 1\n",
    "1 2 7 8 9\n",
    "9 7 6 2 1\n",
    "1 3 2 4 5\n",
    "8 6 4 4 1\n",
    "1 3 6 7 9\"\"\""
   ]
  },
  {
   "cell_type": "code",
   "execution_count": 10,
   "metadata": {},
   "outputs": [
    {
     "data": {
      "text/plain": [
       "[[7, 6, 4, 2, 1],\n",
       " [1, 2, 7, 8, 9],\n",
       " [9, 7, 6, 2, 1],\n",
       " [1, 3, 2, 4, 5],\n",
       " [8, 6, 4, 4, 1],\n",
       " [1, 3, 6, 7, 9]]"
      ]
     },
     "execution_count": 10,
     "metadata": {},
     "output_type": "execute_result"
    }
   ],
   "source": [
    "def read_pbs(file:TextIOBase):\n",
    "    return [ [int(x) for x in line.split()] for line in file]\n",
    "\n",
    "\n",
    "exem_read = read_pbs(StringIO(exem_data))\n",
    "exem_read"
   ]
  },
  {
   "cell_type": "code",
   "execution_count": 14,
   "metadata": {},
   "outputs": [],
   "source": [
    "def safe_report(report:list[int]) -> int | None:\n",
    "    \"\"\"return indices where error occur\n",
    "None if no error\"\"\"\n",
    "    if len(report) <= 1:\n",
    "        return None\n",
    "    increasing = report[0] < report[1]\n",
    "    for i in range(1, len(report)):\n",
    "        if (increasing and report[i-1] >= report[i]) or (\n",
    "            (not increasing) and report[i-1] <= report[i]) or (\n",
    "                abs(report[i-1] - report[i]) > 3):\n",
    "            return i\n",
    "    return None\n",
    "\n",
    "assert safe_report(exem_read[0]) is None\n",
    "assert safe_report(exem_read[1]) == 2\n",
    "assert safe_report(exem_read[2]) == 3\n",
    "assert safe_report(exem_read[3]) == 2\n",
    "assert safe_report(exem_read[4]) == 3\n",
    "assert safe_report(exem_read[5]) is None\n"
   ]
  },
  {
   "cell_type": "markdown",
   "metadata": {},
   "source": []
  },
  {
   "cell_type": "code",
   "execution_count": 15,
   "metadata": {},
   "outputs": [],
   "source": [
    "def nb_save_report(reports:list[list[int]], safe_report):\n",
    "    return sum(1 for report in reports if safe_report(report) is None)\n",
    "\n",
    "\n",
    "assert nb_save_report(exem_read, safe_report) == 2"
   ]
  },
  {
   "cell_type": "code",
   "execution_count": 16,
   "metadata": {},
   "outputs": [
    {
     "data": {
      "text/plain": [
       "670"
      ]
     },
     "execution_count": 16,
     "metadata": {},
     "output_type": "execute_result"
    }
   ],
   "source": [
    "with open(\"input-02-1.txt\") as f:\n",
    "    data = read_pbs(f)\n",
    "\n",
    "nb_save_report(data, safe_report)"
   ]
  },
  {
   "cell_type": "markdown",
   "metadata": {},
   "source": [
    "# pb 2"
   ]
  },
  {
   "cell_type": "code",
   "execution_count": 20,
   "metadata": {},
   "outputs": [],
   "source": [
    "def safe_report_2(report):\n",
    "    fst_report = safe_report(report)\n",
    "    if fst_report is None:\n",
    "        return None\n",
    "    \n",
    "    for i in [fst_report, fst_report - 1, 0, 1]:\n",
    "        cp_report = report[:]\n",
    "        del cp_report[i]\n",
    "        if safe_report(cp_report) is None:\n",
    "            return None\n",
    "\n",
    "    return False\n",
    "    \n",
    "\n",
    "\n",
    "assert safe_report_2(exem_read[0]) is None\n",
    "assert safe_report_2(exem_read[1]) is not None\n",
    "assert safe_report_2(exem_read[2]) is not None\n",
    "assert safe_report_2(exem_read[3]) is None\n",
    "assert safe_report_2(exem_read[4]) is None\n",
    "assert safe_report_2(exem_read[5]) is None\n"
   ]
  },
  {
   "cell_type": "code",
   "execution_count": 21,
   "metadata": {},
   "outputs": [
    {
     "data": {
      "text/plain": [
       "700"
      ]
     },
     "execution_count": 21,
     "metadata": {},
     "output_type": "execute_result"
    }
   ],
   "source": [
    "nb_save_report(data, safe_report_2)"
   ]
  },
  {
   "cell_type": "code",
   "execution_count": null,
   "metadata": {},
   "outputs": [],
   "source": []
  }
 ],
 "metadata": {
  "kernelspec": {
   "display_name": "Python 3",
   "language": "python",
   "name": "python3"
  },
  "language_info": {
   "codemirror_mode": {
    "name": "ipython",
    "version": 3
   },
   "file_extension": ".py",
   "mimetype": "text/x-python",
   "name": "python",
   "nbconvert_exporter": "python",
   "pygments_lexer": "ipython3",
   "version": "3.12.1"
  }
 },
 "nbformat": 4,
 "nbformat_minor": 2
}
